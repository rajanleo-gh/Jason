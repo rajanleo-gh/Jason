{
  "cells": [
    {
      "cell_type": "markdown",
      "metadata": {
        "id": "view-in-github",
        "colab_type": "text"
      },
      "source": [
        "<a href=\"https://colab.research.google.com/github/rajanleo-gh/Jason/blob/main/Google_doc_parse.ipynb\" target=\"_parent\"><img src=\"https://colab.research.google.com/assets/colab-badge.svg\" alt=\"Open In Colab\"/></a>"
      ]
    },
    {
      "cell_type": "code",
      "source": [
        "import requests\n",
        "import pandas as pd\n",
        "import re\n",
        "\n",
        "\n",
        "def print_google_doc_grid(doc_url):\n",
        "    # Fetch document content\n",
        "    response = requests.get(doc_url)\n",
        "    html = response.text\n",
        "\n",
        "    # Extract the table data using regex\n",
        "    pattern = r'\\|\\s*(\\d+)\\s*\\|\\s*(.+?)\\s*\\|\\s*(\\d+)\\s*\\|'\n",
        "    matches = re.findall(pattern, html)\n",
        "\n",
        "    # Cast coordinates and collect character\n",
        "    data = [(int(x), char, int(y)) for x, char, y in matches]\n",
        "\n",
        "    # If no matches, the table may be formatted differently\n",
        "    if not data:\n",
        "        print(\"No data found. Table format may differ.\")\n",
        "        return\n",
        "\n",
        "    # Find grid bounds\n",
        "    min_x = min(x for x, _, _ in data)\n",
        "    max_x = max(x for x, _, _ in data)\n",
        "    min_y = min(y for _, _, y in data)\n",
        "    max_y = max(y for _, _, y in data)\n",
        "\n",
        "    # Adjust to zero-based if needed\n",
        "    grid_width = max_x - min_x + 1\n",
        "    grid_height = max_y - min_y + 1\n",
        "\n",
        "    # Create empty grid\n",
        "    grid = [[\" \"] * grid_width for _ in range(grid_height)]\n",
        "\n",
        "    # Place characters\n",
        "    for x, char, y in data:\n",
        "        grid[y - min_y][x - min_x] = char\n",
        "\n",
        "    # Print grid\n",
        "    for row in grid:\n",
        "        print(\"\".join(row))\n",
        "\n",
        "\n",
        "# Example use:\n",
        "print_google_doc_grid(\n",
        "    \"https://docs.google.com/document/u/0/d/e/2PACX-1vRPzbNQcx5UriHSbZ-9vmsTow_R6RRe7eyAU60xIF9Dlz-vaHiHNO2TKgDi7jy4ZpTpNqM7EvEcfr_p/pub?pli=1\")\n",
        "\n"
      ],
      "metadata": {
        "id": "tpx38E1mIgaZ",
        "colab": {
          "base_uri": "https://localhost:8080/"
        },
        "outputId": "4e7bb8a5-5e1d-4bf9-e143-8769ac08432b"
      },
      "execution_count": 3,
      "outputs": [
        {
          "output_type": "stream",
          "name": "stdout",
          "text": [
            "No data found. Table format may differ.\n"
          ]
        }
      ]
    },
    {
      "cell_type": "code",
      "source": [
        "import requests\n",
        "import pandas as pd\n",
        "from bs4 import BeautifulSoup\n",
        "\n",
        "def print_google_doc_grid(doc_url):\n",
        "    response = requests.get(doc_url)\n",
        "    html = response.text\n",
        "\n",
        "    soup = BeautifulSoup(html, \"html.parser\")\n",
        "\n",
        "    # Find the first table in the document\n",
        "    table = soup.find(\"table\")\n",
        "    if not table:\n",
        "        print(\"No data found — no table element detected.\")\n",
        "        return\n",
        "\n",
        "    # Extract rows and cells\n",
        "    rows = []\n",
        "    for tr in table.find_all(\"tr\"):\n",
        "        cells = [td.get_text(strip=True) for td in tr.find_all([\"td\", \"th\"])]\n",
        "        rows.append(cells)\n",
        "\n",
        "    if not rows:\n",
        "        print(\"No data found — empty table.\")\n",
        "        return\n",
        "\n",
        "    # Convert to DataFrame (optional)\n",
        "    df = pd.DataFrame(rows)\n",
        "    print(df)\n",
        "\n",
        "# Example use\n",
        "print_google_doc_grid(\"https://docs.google.com/document/d/e/2PACX-1vRPzbNQcx5UriHSbZ-9vmsTow_R6RRe7eyAU60xIF9Dlz-vaHiHNO2TKgDi7jy4ZpTpNqM7EvEcfr_p/pub?pli=1\")"
      ],
      "metadata": {
        "colab": {
          "base_uri": "https://localhost:8080/"
        },
        "id": "oLpIkbbPGq6N",
        "outputId": "45224150-46ca-4b7b-f617-94a508de9355"
      },
      "execution_count": 4,
      "outputs": [
        {
          "output_type": "stream",
          "name": "stdout",
          "text": [
            "                0          1             2\n",
            "0    x-coordinate  Character  y-coordinate\n",
            "1              27          █             0\n",
            "2              52          █             2\n",
            "3              17          █             6\n",
            "4              44          ░             3\n",
            "..            ...        ...           ...\n",
            "327             8          █             0\n",
            "328            35          █             5\n",
            "329            36          █             2\n",
            "330            41          █             5\n",
            "331            24          ░             1\n",
            "\n",
            "[332 rows x 3 columns]\n"
          ]
        }
      ]
    },
    {
      "cell_type": "code",
      "source": [
        "import requests\n",
        "from bs4 import BeautifulSoup\n",
        "\n",
        "def print_google_doc_grid(doc_url):\n",
        "    # Fetch the Google Doc HTML\n",
        "    response = requests.get(doc_url)\n",
        "    html = response.text\n",
        "    soup = BeautifulSoup(html, \"html.parser\")\n",
        "\n",
        "    # Find the first table\n",
        "    table = soup.find(\"table\")\n",
        "    if not table:\n",
        "        print(\"No data found — no table detected.\")\n",
        "        return\n",
        "\n",
        "    # Extract table rows\n",
        "    data = []\n",
        "    for row in table.find_all(\"tr\"):\n",
        "        cells = [td.get_text(strip=True) for td in row.find_all(\"td\")]\n",
        "        if len(cells) == 3:\n",
        "            try:\n",
        "                x = int(cells[0])\n",
        "                char = cells[1]\n",
        "                y = int(cells[2])\n",
        "                data.append((x, char, y))\n",
        "            except ValueError:\n",
        "                continue  # skip header or bad rows\n",
        "\n",
        "    if not data:\n",
        "        print(\"No data found — table may not contain numeric coordinates.\")\n",
        "        return\n",
        "\n",
        "    # Determine grid bounds\n",
        "    min_x = min(x for x, _, _ in data)\n",
        "    max_x = max(x for x, _, _ in data)\n",
        "    min_y = min(y for _, _, y in data)\n",
        "    max_y = max(y for _, _, y in data)\n",
        "\n",
        "    # Grid size\n",
        "    width = max_x - min_x + 1\n",
        "    height = max_y - min_y + 1\n",
        "\n",
        "    # Create empty grid\n",
        "    grid = [[\" \"] * width for _ in range(height)]\n",
        "\n",
        "    # Fill grid\n",
        "    for x, char, y in data:\n",
        "        grid[y - min_y][x - min_x] = char\n",
        "\n",
        "    # Print grid\n",
        "    print(\"\\nDecoded Grid:\\n\")\n",
        "    for row in grid:\n",
        "        print(\"\".join(row))\n",
        "\n",
        "    # Extract hidden message (all uppercase letters)\n",
        "    message = \"\".join(c for row in grid for c in row if c.isalpha()).upper()\n",
        "    print(\"\\nHidden Message:\", message)\n",
        "\n",
        "# Example usage\n",
        "print_google_doc_grid(\"https://docs.google.com/document/d/e/2PACX-1vRPzbNQcx5UriHSbZ-9vmsTow_R6RRe7eyAU60xIF9Dlz-vaHiHNO2TKgDi7jy4ZpTpNqM7EvEcfr_p/pub?pli=1\")"
      ],
      "metadata": {
        "colab": {
          "base_uri": "https://localhost:8080/"
        },
        "id": "XKMYgEa1KJ6K",
        "outputId": "8cc71d49-9809-4b46-ab75-b654a50a2710"
      },
      "execution_count": 6,
      "outputs": [
        {
          "output_type": "stream",
          "name": "stdout",
          "text": [
            "\n",
            "Decoded Grid:\n",
            "\n",
            "██░    ███░ ██████░    ███████░     ██░     ██░     ██████████░ ████████░    ████████░  \n",
            "██░  ███░     ██░    ███░    ██░   ████░   ████░    ██░         ██░     ██░  ██░     ██░\n",
            "██░███░       ██░   ███░           ██░██░ ██░██░    ██░         ██░      ██░ ██░     ██░\n",
            "████░         ██░   ██░           ███░ ██░██░ ██░   ████████░   ██░      ██░ ████████░  \n",
            "██░███░       ██░   ███░          ██░  █████░ ███░  ██░         ██░      ██░ ██░     ██░\n",
            "██░  ███░     ██░    ███░    ██░ ███░   ███░   ██░  ██░         ██░     ██░  ██░     ██░\n",
            "██░    ███░ ██████░    ███████░  ██░           ███░ ██████████░ ████████░    ████████░  \n",
            "\n",
            "Hidden Message: \n"
          ]
        }
      ]
    },
    {
      "cell_type": "code",
      "source": [
        "# While Loop (runs until a condition is false)\n",
        "count = 1\n",
        "while count <= 5:\n",
        "  print(\"Count is:\", count) #Indendation was the problem\n",
        "  count += 1"
      ],
      "metadata": {
        "colab": {
          "base_uri": "https://localhost:8080/"
        },
        "id": "7VIRnQJZELIp",
        "outputId": "545579f7-b4a9-4227-d2e5-03d630c0cd31"
      },
      "execution_count": null,
      "outputs": [
        {
          "output_type": "stream",
          "name": "stdout",
          "text": [
            "Count is: 1\n",
            "Count is: 2\n",
            "Count is: 3\n",
            "Count is: 4\n",
            "Count is: 5\n"
          ]
        }
      ]
    },
    {
      "cell_type": "code",
      "execution_count": null,
      "metadata": {
        "id": "0s9fY-oIdYAH",
        "colab": {
          "base_uri": "https://localhost:8080/"
        },
        "outputId": "0acbdc7f-517d-4921-b0a1-ef0a8d0b70dc"
      },
      "outputs": [
        {
          "output_type": "stream",
          "name": "stdout",
          "text": [
            "apple\n",
            "banana\n",
            "cherry\n",
            "[10, 20, 30, 40]\n",
            "4\n",
            "John\n",
            "Enter favorite movie #1: hhh\n",
            "appende list: 1 : ['hhh']\n",
            "Enter favorite movie #2: kkk\n",
            "appende list: 2 : ['hhh', 'kkk']\n",
            "Enter favorite movie #3: lll\n",
            "appende list: 3 : ['hhh', 'kkk', 'lll']\n",
            "\n",
            "Your favorite movies are:\n",
            "1. hhh\n",
            "2. kkk\n",
            "3. lll\n"
          ]
        }
      ],
      "source": [
        "#1. Loops in Python\n",
        "fruits = [\"apple\", \"banana\", \"cherry\"]\n",
        "for fruit in fruits:\n",
        "  print(fruit)\n",
        "\n",
        "# While Loop (runs until a condition is false)\n",
        "count = 1\n",
        "while count == 5:\n",
        " print(\"Count is:\", count)\n",
        "count += 1\n",
        "\n",
        "#2. Collections — Lists, Tuples, Dictionaries\n",
        "# List (changeable, ordered)\n",
        "\n",
        "numbers = [10, 20, 30]\n",
        "numbers.append(40) # Add to the end\n",
        "print(numbers) # [10, 20, 30, 40]\n",
        "\n",
        "#Tuple (unchangeable, ordered)\n",
        "\n",
        "coordinates = (4, 5)\n",
        "print(coordinates[0]) # 4\n",
        "\n",
        "# Dictionary (key-value pairs)\n",
        "person = {\"name\": \"John\", \"age\": 25}\n",
        "print(person[\"name\"]) # John\n",
        "person[\"age\"] = 26 # Update value\n",
        "\n",
        "\n",
        "\n",
        "\n",
        "\n",
        "movies = []  # Step 1: Initialize an empty list\n",
        "\n",
        "i = 1\n",
        "while i <= 3:\n",
        "    movie = input(f\"Enter favorite movie #{i}: \")\n",
        "    movies.append(movie)\n",
        "    print(\"appende list:\", i,\":\",movies)\n",
        "    i = i + 1\n",
        "\n",
        "# Step 2: Print them back with numbering\n",
        "print(\"\\nYour favorite movies are:\")\n",
        "for idx, x in enumerate(movies, start=1):\n",
        "    print(f\"{idx}. {x}\")"
      ]
    },
    {
      "cell_type": "code",
      "source": [
        "test_array = ['one', 'two', 'three']\n",
        "#print values of a list\n",
        "print(f\"{test_array}\")\n",
        "\n",
        "for idx, x in enumerate(test_array, start=1):\n",
        "    print(f\"{idx}. {x}\")"
      ],
      "metadata": {
        "colab": {
          "base_uri": "https://localhost:8080/"
        },
        "id": "cRPUGj8nAjFy",
        "outputId": "8038cf0e-2181-4eb0-edf2-e44addd7becc"
      },
      "execution_count": null,
      "outputs": [
        {
          "output_type": "stream",
          "name": "stdout",
          "text": [
            "['one', 'two', 'three']\n",
            "1. one\n",
            "2. two\n",
            "3. three\n"
          ]
        }
      ]
    },
    {
      "cell_type": "code",
      "execution_count": null,
      "metadata": {
        "id": "NL0VwfYL4M8y"
      },
      "outputs": [],
      "source": [
        "print(\"Welcome to the rollercoaster!\")\n",
        "height = int(input(\"What is your height in cm? \"))\n",
        "bill = 0\n",
        "\n",
        "if height >= 120:\n",
        "    print(\"You can ride the rollercoaster!\")\n",
        "    age = int(input(\"What is your age? \"))\n",
        "    if age < 12:\n",
        "        bill = 5\n",
        "        print(\"Child tickets are $5.\")\n",
        "    elif age <= 18:\n",
        "        bill = 7\n",
        "        print(\"Youth tickets are $7.\")\n",
        "    else:\n",
        "        bill = 12\n",
        "        print(\"Adult tickets are $12.\")\n",
        "\n",
        "    wants_photo = input(\"Do you want a photo taken? Y or N. \")\n",
        "    if wants_photo == \"Y\":\n",
        "        bill += 3\n",
        "\n",
        "    print(f\"Your final bill is ${bill}\")\n",
        "\n",
        "else:\n",
        "    print(\"Sorry, you have to grow taller before you can ride.\")\n"
      ]
    }
  ],
  "metadata": {
    "colab": {
      "provenance": [],
      "authorship_tag": "ABX9TyPu2+nqDZTvCGpaxesea7Tp",
      "include_colab_link": true
    },
    "kernelspec": {
      "display_name": "Python 3",
      "name": "python3"
    },
    "language_info": {
      "name": "python"
    }
  },
  "nbformat": 4,
  "nbformat_minor": 0
}